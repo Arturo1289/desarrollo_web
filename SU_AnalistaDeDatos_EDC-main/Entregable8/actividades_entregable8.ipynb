{
 "cells": [
  {
   "cell_type": "code",
   "execution_count": null,
   "metadata": {},
   "outputs": [],
   "source": [
    "\n",
    "\n",
    "\n",
    "\n",
    "\n"
   ]
  }
 ],
 "metadata": {
  "kernelspec": {
   "display_name": "Python 3",
   "language": "python",
   "name": "python3"
  },
  "language_info": {
   "name": "python",
   "version": "3.10.9 (tags/v3.10.9:1dd9be6, Dec  6 2022, 20:01:21) [MSC v.1934 64 bit (AMD64)]"
  },
  "orig_nbformat": 4,
  "vscode": {
   "interpreter": {
    "hash": "c2f9a78ffdc21906de073fbad9aff7ccfd34eabfc9b54f6247e74b911bdf26bb"
   }
  }
 },
 "nbformat": 4,
 "nbformat_minor": 2
}
