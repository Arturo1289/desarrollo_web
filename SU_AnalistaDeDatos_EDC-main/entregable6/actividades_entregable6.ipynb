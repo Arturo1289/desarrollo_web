{
 "cells": [
  {
   "cell_type": "code",
   "execution_count": null,
   "metadata": {},
   "outputs": [],
   "source": [
    "while(True):\n",
    "    \\\n",
    "    print(\"1.- Repetir\")\n",
    "    print(\"2.- Reiniciar\")\n",
    "    print(\"3.- Bolver a empesar\")\n",
    "    print(\"3.- Salir\")\n",
    "    \\\n",
    "    opt = int(input(\"Ingresa una opción: \"))\n",
    "    if 0 < opt and opt < 4:\n",
    "        True\n",
    "    else:\n",
    "        break\n",
    "\n",
    "print(\"Has salido del bucle\")\n",
    "    "
   ]
  },
  {
   "cell_type": "code",
   "execution_count": null,
   "metadata": {},
   "outputs": [],
   "source": [
    "pri = int(input(\"¿Cuantos numeros primos quieres\", ))\n"
   ]
  }
 ],
 "metadata": {
  "kernelspec": {
   "display_name": "Python 3",
   "language": "python",
   "name": "python3"
  },
  "language_info": {
   "codemirror_mode": {
    "name": "ipython",
    "version": 3
   },
   "file_extension": ".py",
   "mimetype": "text/x-python",
   "name": "python",
   "nbconvert_exporter": "python",
   "pygments_lexer": "ipython3",
   "version": "3.11.0"
  },
  "orig_nbformat": 4,
  "vscode": {
   "interpreter": {
    "hash": "2aa2045f5d11f4b9ba197443632ddb45a1ff7534ecda4a38eb8b594a1e561e65"
   }
  }
 },
 "nbformat": 4,
 "nbformat_minor": 2
}
