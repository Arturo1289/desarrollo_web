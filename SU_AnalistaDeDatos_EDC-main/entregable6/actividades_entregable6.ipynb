{
 "cells": [
  {
   "cell_type": "code",
   "execution_count": null,
   "metadata": {},
   "outputs": [],
   "source": [
    "#Actividad 1\n",
    "while(True):\n",
    "    print(\"1.-Reiniciar\")\n",
    "    print(\"2.-Volver a empesar\")\n",
    "    print(\"3.-Iniciar desde cero\")\n",
    "    print(\"4.-Repetir\")\n",
    "    print(\"5.-Salir\")\n",
    "    opt = int(input(\"Ingresa una opción: \"))\n",
    "    if 0 < opt and opt < 5:\n",
    "        print(f\"elegiste la opción: {opt}\")\n",
    "    else:\n",
    "        print(f\"elegiste la opción: {5}\")\n",
    "        break"
   ]
  },
  {
   "cell_type": "code",
   "execution_count": null,
   "metadata": {},
   "outputs": [],
   "source": [
    "#Actividad 2\n"
   ]
  },
  {
   "cell_type": "code",
   "execution_count": null,
   "metadata": {},
   "outputs": [],
   "source": [
    "#Actividad 3"
   ]
  },
  {
   "cell_type": "code",
   "execution_count": null,
   "metadata": {},
   "outputs": [],
   "source": [
    "#Actividad 4"
   ]
  }
 ],
 "metadata": {
  "kernelspec": {
   "display_name": "Python 3.11.0 64-bit",
   "language": "python",
   "name": "python3"
  },
  "language_info": {
   "codemirror_mode": {
    "name": "ipython",
    "version": 3
   },
   "file_extension": ".py",
   "mimetype": "text/x-python",
   "name": "python",
   "nbconvert_exporter": "python",
   "pygments_lexer": "ipython3",
   "version": "3.11.0"
  },
  "orig_nbformat": 4,
  "vscode": {
   "interpreter": {
    "hash": "0b0b049f9f07c796a5db9b973cc3ef1a7f890e99374bb13bd3a985708b2ada45"
   }
  }
 },
 "nbformat": 4,
 "nbformat_minor": 2
}
