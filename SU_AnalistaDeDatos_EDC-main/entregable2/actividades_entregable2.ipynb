{
 "cells": [
  {
   "cell_type": "code",
   "execution_count": 6,
   "metadata": {},
   "outputs": [
    {
     "name": "stdout",
     "output_type": "stream",
     "text": [
      "Estos son tus greados celsius 16.221\n"
     ]
    }
   ],
   "source": [
    "#Actividad 1\n",
    "f = float (input(\"¿Cuantos grados Fahrenheit voy a convertir a Celsius?\"), )\n",
    "print (\"Estos son tus grados celsius\",\"{:.3f}\".format(f-32*0.5556))                   "
   ]
  },
  {
   "cell_type": "code",
   "execution_count": 9,
   "metadata": {},
   "outputs": [
    {
     "name": "stdout",
     "output_type": "stream",
     "text": [
      "La suma de los numeros 678.0 y 567.0 es = 1245.00\n",
      "La resta de los numeros 678.0 y 567.0 es = 111.000\n",
      "La division de los numeros 678.0 y 567.0 es = 1.196\n",
      "La multiplicacion de los numeros 678.0 y 567.0 es = 384426.000\n"
     ]
    }
   ],
   "source": [
    "#Actividad 2\n",
    "n1 = float(input(\"Dame un numero\",))\n",
    "n2 = float(input(\"Dame otro numero\",))\n",
    "s = (n1+n2)\n",
    "r = (n1-n2)\n",
    "d = (n1/n2)\n",
    "m = (n1*n2)\n",
    "print (\"La suma de los numeros\",n1,\"y\",n2,\"es =\",\"{:.2f}\".format(s))\n",
    "print(\"La resta de los numeros\",n1,\"y\",n2,\"es =\",\"{:.2f}\".format(r))\n",
    "print(\"La division de los numeros\",n1,\"y\",n2,\"es =\",\"{:.2f}\".format(d))\n",
    "print(\"La multiplicacion de los numeros\",n1,\"y\",n2,\"es =\",\"{:.2f}\".format(m))"
   ]
  },
  {
   "cell_type": "code",
   "execution_count": 15,
   "metadata": {},
   "outputs": [
    {
     "name": "stdout",
     "output_type": "stream",
     "text": [
      "El area del rectangulo es de 1014.0 cm\n",
      "El perimetro del rectangulo es de 182.0 cm\n"
     ]
    }
   ],
   "source": [
    "#Actividad 3\n",
    "b = float(input(\"Indicame la base\",))\n",
    "l = float(input(\"Indicame la altura\",))\n",
    "cal1 = (b*2)\n",
    "cal2 = (l*2)\n",
    "cal3 = (cal1+cal2)\n",
    "print(\"El area del rectangulo es de\",(b*l),\"cm\")\n",
    "print(\"El perimetro del rectangulo es de\",(cal3),\"cm\")\n"
   ]
  },
  {
   "cell_type": "code",
   "execution_count": 20,
   "metadata": {},
   "outputs": [
    {
     "name": "stdout",
     "output_type": "stream",
     "text": [
      "La media aritmetica es = 29.333\n"
     ]
    }
   ],
   "source": [
    "#Actividad 4\n",
    "n1 = float(input(\"Dame un numero\",))\n",
    "n2 = float(input(\"Dame otro numero\",))\n",
    "n3 = float(input(\"Dame un ultimo numero\",))\n",
    "n4 = float(n1+n2+n3)\n",
    "div = float(n4/3)\n",
    "print (\"La media aritmetica es =\",\"{:.2f}\".format(div))"
   ]
  }
 ],
 "metadata": {
  "kernelspec": {
   "display_name": "Python 3.11.0 64-bit",
   "language": "python",
   "name": "python3"
  },
  "language_info": {
   "codemirror_mode": {
    "name": "ipython",
    "version": 3
   },
   "file_extension": ".py",
   "mimetype": "text/x-python",
   "name": "python",
   "nbconvert_exporter": "python",
   "pygments_lexer": "ipython3",
   "version": "3.11.0"
  },
  "orig_nbformat": 4,
  "vscode": {
   "interpreter": {
    "hash": "0b0b049f9f07c796a5db9b973cc3ef1a7f890e99374bb13bd3a985708b2ada45"
   }
  }
 },
 "nbformat": 4,
 "nbformat_minor": 2
}
