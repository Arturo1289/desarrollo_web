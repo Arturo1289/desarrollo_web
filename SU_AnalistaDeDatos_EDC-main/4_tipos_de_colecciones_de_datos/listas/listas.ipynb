{
 "cells": [
  {
   "cell_type": "markdown",
   "metadata": {},
   "source": [
    "# Listas\n",
    "Las listas de Python son como matrices de tamaño dinámico, declaradas en otros lenguajes (vector en C++ y ArrayList en Java). En un lenguaje sencillo, una lista es una colección de cosas, encerradas entre [ ] y separadas por comas.  \n",
    "La lista es un tipo de datos de secuencia que se utiliza para almacenar la colección de datos. Tuples y String son otros tipos de tipos de datos de secuencia."
   ]
  },
  {
   "cell_type": "markdown",
   "metadata": {},
   "source": [
    "## Crear una lista\n",
    "Las listas en Python se pueden crear simplemente colocando la secuencia dentro de los corchetes [].Una lista no necesita una función integrada para crear una lista. "
   ]
  },
  {
   "cell_type": "code",
   "execution_count": 39,
   "metadata": {},
   "outputs": [
    {
     "name": "stdout",
     "output_type": "stream",
     "text": [
      "<class 'list'>\n",
      "[]\n"
     ]
    }
   ],
   "source": [
    "lista = []\n",
    "# imprime el tipo de dato\n",
    "print(type(lista))\n",
    "# lista en blanco\n",
    "print(lista)"
   ]
  },
  {
   "cell_type": "markdown",
   "metadata": {},
   "source": [
    "### Crear una Lista con elementos\n",
    "Una lista puede contener valores duplicados con sus distintas posiciones y, por lo tanto, se pueden pasar varios valores distintos o duplicados como una secuencia en el momento de la creación de la lista."
   ]
  },
  {
   "cell_type": "code",
   "execution_count": 40,
   "metadata": {},
   "outputs": [
    {
     "name": "stdout",
     "output_type": "stream",
     "text": [
      "[1, 2, 3, 4, 5, 6]\n",
      "['Hola', 'Mundo', 'desde', 'Python']\n",
      "[[], [], []]\n"
     ]
    }
   ],
   "source": [
    "# lista con enteros\n",
    "lista_i = [1,2,3,4,5,6]\n",
    "# lista con str\n",
    "lista_str = [\"Hola\",\"Mundo\",\"desde\",\"Python\"]\n",
    "# lista con listas\n",
    "lista_l = [[],[],[]]\n",
    "\n",
    "print(lista_i)\n",
    "print(lista_str)\n",
    "print(lista_l)"
   ]
  },
  {
   "cell_type": "code",
   "execution_count": 41,
   "metadata": {},
   "outputs": [
    {
     "name": "stdout",
     "output_type": "stream",
     "text": [
      "[1, 1, 2, 3, 4, 5, 5, 5, 6, 7, 8, 8, 9, 9, 9, 10]\n",
      "[1, 'uno', [2, 'dos'], True, 5.1, True, False]\n"
     ]
    }
   ],
   "source": [
    "# lista con datos repetidos\n",
    "lista = [1,1,2,3,4,5,5,5,6,7,8,8,9,9,9,10]\n",
    "# lista con diferente tipos de datos\n",
    "lista_m =[1,\"uno\",[2,\"dos\"],True,5.1,3<=5,True and False]\n",
    "print(lista)\n",
    "print(lista_m)"
   ]
  },
  {
   "cell_type": "code",
   "execution_count": 42,
   "metadata": {},
   "outputs": [
    {
     "name": "stdout",
     "output_type": "stream",
     "text": [
      "[2, 4, 6, 8, 10, 12, 14, 16, 18, 20, 22, 24, 26, 28, 30, 32, 34, 36, 38, 40, 42, 44, 46, 48, 50, 52, 54, 56, 58, 60, 62, 64, 66, 68, 70, 72, 74, 76, 78, 80, 82, 84, 86, 88, 90, 92, 94, 96, 98, 100, 102, 104, 106, 108, 110, 112, 114, 116, 118, 120, 122, 124, 126, 128, 130, 132, 134, 136, 138, 140, 142, 144, 146, 148, 150, 152, 154, 156, 158, 160, 162, 164, 166, 168, 170, 172, 174, 176, 178, 180, 182, 184, 186, 188, 190, 192, 194, 196, 198, 200]\n",
      "['H', 'o', 'l', 'a']\n",
      "('H', 'o', 'l', 'a')\n"
     ]
    }
   ],
   "source": [
    "# lista con generadores for\n",
    "lista_g = [i*2 for i in range(1,101)]\n",
    "print(lista_g)\n",
    "saludo = \"Hola\" #['h','l']\n",
    "lista_saludo = [letra for letra in saludo]\n",
    "print(lista_saludo)\n",
    "print(tuple(saludo))"
   ]
  },
  {
   "cell_type": "markdown",
   "metadata": {},
   "source": [
    "## Agregar elementos\n",
    "Los elementos se pueden agregar a la lista mediante el uso de la función incorporada <span style=\"color:#66D9EF\">append()</span> . Solo se puede agregar un elemento a la vez a la lista usando el método <span style=\"color:#66D9EF\">append()</span>, para agregar múltiples elementos con el método <span style=\"color:#66D9EF\">append()</span>, se usan bucles."
   ]
  },
  {
   "cell_type": "markdown",
   "metadata": {},
   "source": [
    "### Utilizando el método <span style=\"color:#66D9EF\">append( elemento )</span>"
   ]
  },
  {
   "cell_type": "code",
   "execution_count": 43,
   "metadata": {},
   "outputs": [
    {
     "name": "stdout",
     "output_type": "stream",
     "text": [
      "[1, 2, 3]\n",
      "[1, 2, 3, 4]\n",
      "[1, 2, 3, 4, 7, 9, 5, 8, 6]\n"
     ]
    }
   ],
   "source": [
    "# crear lista\n",
    "lista = [1,2,3]\n",
    "print(lista)\n",
    "# agregando el 4\n",
    "lista.append(4)\n",
    "print(lista)\n",
    "lista.append(7)\n",
    "lista.append(9)\n",
    "lista.append(5)\n",
    "lista.append(8)\n",
    "lista.append(6)\n",
    "print(lista)\n"
   ]
  },
  {
   "cell_type": "code",
   "execution_count": 44,
   "metadata": {},
   "outputs": [
    {
     "name": "stdout",
     "output_type": "stream",
     "text": [
      "[1, 2, 3, 4, 5, 6, 7, 8, 9, 10, 11, 12, 13, 14, 15, 16, 17, 18, 19, 20, 21, 22, 23, 24]\n"
     ]
    }
   ],
   "source": [
    "lista = [1,2,3,4,5,6,7,8,9,10,11,12,13]\n",
    "# Utilizando un iterador for\n",
    "#len(lista)+1,len(lista)+12\n",
    "for i in range(1,12):#i<len(lista)+12=21\n",
    "    lista.append(len(lista)+1)\n",
    "print(lista)"
   ]
  },
  {
   "cell_type": "code",
   "execution_count": 45,
   "metadata": {},
   "outputs": [
    {
     "name": "stdout",
     "output_type": "stream",
     "text": [
      "[1, 'dos', [3, 4, 5], 6.0, [7, [8, 9, [10]]]]\n"
     ]
    }
   ],
   "source": [
    "lista = []\n",
    "# agregando otros tipos de datos\n",
    "lista.append(1)\n",
    "lista.append(\"dos\")\n",
    "lista.append([3,4,5])\n",
    "lista.append(6.0)\n",
    "lista.append([7,[8,9,[10]]])\n",
    "print(lista)"
   ]
  },
  {
   "cell_type": "markdown",
   "metadata": {},
   "source": [
    "### Utilizando operador de asignación"
   ]
  },
  {
   "cell_type": "markdown",
   "metadata": {},
   "source": [
    "Utilizando el operador de asignación <span style=\"color:#66D9EF\">varible += valor</span>, se puede concatenar una lista, valor tiene que ser de tipo lista"
   ]
  },
  {
   "cell_type": "code",
   "execution_count": 46,
   "metadata": {},
   "outputs": [
    {
     "name": "stdout",
     "output_type": "stream",
     "text": [
      "[1, 2, 3, 4, 5, 6, 7, 8]\n"
     ]
    }
   ],
   "source": [
    "# lista\n",
    "lista = [1,2,3]\n",
    "lista += [4,5]\n",
    "# error\n",
    "# lista += 6 #el 5 no es tipo list\n",
    "lista += [6] # con la coma se convierte en lista\n",
    "# equivalencia\n",
    "lista = lista + [7,8]\n",
    "print(lista) "
   ]
  },
  {
   "cell_type": "markdown",
   "metadata": {},
   "source": [
    "### Con el métedo <span style=\"color:#66D9EF\">extend()</span>"
   ]
  },
  {
   "cell_type": "markdown",
   "metadata": {},
   "source": [
    "Aparte de los métodos append() e insert(), hay un método más para la adición de elementos, extend() , este método se usa para agregar varios elementos al mismo tiempo al final de la lista.  \n",
    "_Este método es igual que utilizar un operador de asignación._"
   ]
  },
  {
   "cell_type": "code",
   "execution_count": 47,
   "metadata": {},
   "outputs": [
    {
     "name": "stdout",
     "output_type": "stream",
     "text": [
      "[1, 2, 3, 4]\n",
      "[1, 2, 3, 4, 5, 6, 7, 7]\n"
     ]
    }
   ],
   "source": [
    "lista = [1,2,3]\n",
    "lista.extend([4,5,6])\n",
    "lista.extend([7])\n",
    "lista.extend((7,))\n",
    "tupla = list((1,2,3,4))\n",
    "print(tupla)\n",
    "print(lista)"
   ]
  },
  {
   "cell_type": "markdown",
   "metadata": {},
   "source": [
    "### Usando el método <span style=\"color:#66D9EF\">insert()</span>"
   ]
  },
  {
   "cell_type": "markdown",
   "metadata": {},
   "source": [
    "El método <span style=\"color:#66D9EF\">append()</span> sólo funciona para la adición de elementos al final de la Lista, para la adición de elementos en la posición deseada, se utiliza el método <span style=\"color:#66D9EF\">insert()</span> . A diferencia de append() que toma sólo un argumento, el método <span style=\"color:#66D9EF\">insert()</span> requiere dos argumentos <span style=\"color:#66D9EF\">(posición, valor)</span>. Al insertar no sustituye el valor en la posición, sino que recorre la lista hacia la derecha\n",
    "\n",
    "La posición de una lista empieza en 0.  \n",
    "\n",
    "Ejemplo:\n",
    "```python\n",
    "    lista = [\"hola\",\"mundo\",\"desde\",\"python\"]\n",
    "```\n",
    "La posición 0 de la lista es <span style=\"color:#C5DB74 \">\"hola\"</span> , la posición 3 es <span style=\"color:#C5DB74 \">\"python\"</span>"
   ]
  },
  {
   "cell_type": "code",
   "execution_count": 48,
   "metadata": {},
   "outputs": [
    {
     "name": "stdout",
     "output_type": "stream",
     "text": [
      "[1, 2, 3, 5, 7]\n",
      "[1, 2, 3, 4, 5, 7]\n",
      "[1, 2, 3, 4, 5, 6, 7]\n",
      "['hola mundo', 1, 2, 3, 4, 5, 6, 7]\n",
      "['hola mundo', 1, 2, 3, 4, 5, 6, 7, '?']\n",
      "['hola mundo', 1, 2, 3, 4, 5, 6, 7, '??', '?']\n",
      "['???', 'hola mundo', 1, 2, 3, 4, 5, 6, 7, '??', '?']\n"
     ]
    }
   ],
   "source": [
    "lista = [1,3,5,7]\n",
    "# insertamos el 2 en la posición 1\n",
    "lista.insert(1,2)\n",
    "print(lista)\n",
    "# el 4 en la posición 3\n",
    "lista.insert(3,4)\n",
    "print(lista)\n",
    "# el 6 en la posición 5\n",
    "lista.insert(5,6)\n",
    "print(lista)\n",
    "# un hola mundo en la posición 0\n",
    "lista.insert(0,\"hola mundo\")\n",
    "print(lista)\n",
    "# insert en la posición 50\n",
    "lista.insert(50,\"?\")\n",
    "print(lista)\n",
    "lista.insert(-1,\"??\")\n",
    "print(lista)\n",
    "lista.insert(-10000,\"???\")\n",
    "print(lista)"
   ]
  },
  {
   "cell_type": "markdown",
   "metadata": {},
   "source": [
    "##  Acceder a un elemento en la lista"
   ]
  },
  {
   "cell_type": "markdown",
   "metadata": {},
   "source": [
    "\n",
    "### Índice de lista\n",
    "Podemos usar el operador de índice []para acceder a un elemento en una lista. En Python, los índices comienzan en 0. Entonces, una lista que tiene 5 elementos tendrá un índice de 0 a 4.\n",
    "\n",
    "Intentar acceder a índices que no sean estos generará un archivo IndexError. El índice debe ser un número entero. No podemos usar float u otros tipos, esto dará como resultado TypeError.\n",
    "\n",
    "Se accede a las listas anidadas mediante la indexación anidada."
   ]
  },
  {
   "cell_type": "code",
   "execution_count": 49,
   "metadata": {},
   "outputs": [
    {
     "name": "stdout",
     "output_type": "stream",
     "text": [
      "1\n",
      "10\n"
     ]
    }
   ],
   "source": [
    "lista = [1,2,3,4,5,6,7,8,9,10]\n",
    "print(lista[0])\n",
    "print(lista[9])"
   ]
  },
  {
   "cell_type": "code",
   "execution_count": 50,
   "metadata": {},
   "outputs": [
    {
     "name": "stdout",
     "output_type": "stream",
     "text": [
      "[[[['?']]]]\n",
      "10\n",
      "[[[['?']]]]\n",
      "[[['?']]]\n",
      "[['?']]\n",
      "['?']\n",
      "?\n"
     ]
    }
   ],
   "source": [
    "# lista con listas\n",
    "lista = [1,2,3,[4,5,6,7,8],[9,10],[[[[\"?\"]]]]]\n",
    "# mostrar 10\n",
    "print(lista[5])\n",
    "print(lista[4][1])\n",
    "# mostrar ? \n",
    "print(lista[5])\n",
    "print(lista[5][0])\n",
    "print(lista[5][0][0])\n",
    "print(lista[5][0][0][0])\n",
    "print(lista[5][0][0][0][0])\n",
    "\n"
   ]
  },
  {
   "cell_type": "markdown",
   "metadata": {},
   "source": [
    "### Indexación negativa\n"
   ]
  },
  {
   "cell_type": "markdown",
   "metadata": {},
   "source": [
    "Python permite la indexación negativa de sus secuencias. El índice de -1 se refiere al último elemento, -2 al penúltimo elemento y así sucesivamente."
   ]
  },
  {
   "cell_type": "code",
   "execution_count": 51,
   "metadata": {},
   "outputs": [
    {
     "name": "stdout",
     "output_type": "stream",
     "text": [
      "151\n",
      "150\n",
      "0\n"
     ]
    }
   ],
   "source": [
    "lista = [i for i in range(152)]\n",
    "# ultimo elento\n",
    "print(lista[-1])\n",
    "# penultimo\n",
    "print(lista[-2])\n",
    "# primer elemento\n",
    "print(lista[-len(lista)])# -152  -len(lista) = 0\n"
   ]
  },
  {
   "cell_type": "markdown",
   "metadata": {},
   "source": [
    "## Eliminar un elemento"
   ]
  },
  {
   "cell_type": "markdown",
   "metadata": {},
   "source": [
    "### Usando el método <span style=\"color:#66D9EF\">remove()</span>\n",
    "Los elementos se pueden eliminar de la lista utilizando la función <span style=\"color:#66D9EF\">remove()</span>, si el elemento no existe en la lista marcara un error.\n",
    "El método <span style=\"color:#66D9EF\">remove()</span> solo elimina un elemento a la vez, para eliminar un rango de elementos se usa un iterador.\n",
    "\n",
    "El método solo eliminara la primera aparición del elemento buscado."
   ]
  },
  {
   "cell_type": "code",
   "execution_count": 52,
   "metadata": {},
   "outputs": [
    {
     "name": "stdout",
     "output_type": "stream",
     "text": [
      "[1, 2, 3, 4, 5, 3, 2, 6, 7, 2, 8, 1, 9, 1]\n",
      "[1, 2, 3, 4, 3, 2, 6, 7, 2, 8, 1, 9, 1]\n",
      "[2, 3, 4, 3, 2, 6, 7, 2, 8, 1, 9, 1]\n",
      "[2, 3, 4, 3, 2, 6, 7, 2, 8, 9, 1]\n",
      "[2, 3, 4, 3, 2, 6, 7, 2, 8, 9]\n"
     ]
    },
    {
     "ename": "ValueError",
     "evalue": "list.remove(x): x not in list",
     "output_type": "error",
     "traceback": [
      "\u001b[1;31m---------------------------------------------------------------------------\u001b[0m",
      "\u001b[1;31mValueError\u001b[0m                                Traceback (most recent call last)",
      "\u001b[1;32me:\\Developer\\EDC_Octubre\\SU_AnalistaDeDatos_EDC\\4_tipos_de_colecciones_de_datos\\listas\\listas.ipynb Celda 31\u001b[0m in \u001b[0;36m<cell line: 16>\u001b[1;34m()\u001b[0m\n\u001b[0;32m     <a href='vscode-notebook-cell:/e%3A/Developer/EDC_Octubre/SU_AnalistaDeDatos_EDC/4_tipos_de_colecciones_de_datos/listas/listas.ipynb#X42sZmlsZQ%3D%3D?line=13'>14</a>\u001b[0m \u001b[39mprint\u001b[39m(lista)\n\u001b[0;32m     <a href='vscode-notebook-cell:/e%3A/Developer/EDC_Octubre/SU_AnalistaDeDatos_EDC/4_tipos_de_colecciones_de_datos/listas/listas.ipynb#X42sZmlsZQ%3D%3D?line=14'>15</a>\u001b[0m \u001b[39m# si lo eliminamos de nuevo , error\u001b[39;00m\n\u001b[1;32m---> <a href='vscode-notebook-cell:/e%3A/Developer/EDC_Octubre/SU_AnalistaDeDatos_EDC/4_tipos_de_colecciones_de_datos/listas/listas.ipynb#X42sZmlsZQ%3D%3D?line=15'>16</a>\u001b[0m lista\u001b[39m.\u001b[39;49mremove(\u001b[39m1\u001b[39;49m)\n",
      "\u001b[1;31mValueError\u001b[0m: list.remove(x): x not in list"
     ]
    }
   ],
   "source": [
    "lista = [1,2,3,4,5,3,2,6,7,2,8,1,9,1]\n",
    "print(lista)\n",
    "# eliminamos el 5\n",
    "lista.remove(5)\n",
    "print(lista)\n",
    "# eliminamos el 1, primera aparición\n",
    "lista.remove(1)\n",
    "print(lista)\n",
    "# lo eliminamos de nuevo\n",
    "lista.remove(1)\n",
    "print(lista)\n",
    "# ultimo\n",
    "lista.remove(1)\n",
    "print(lista)\n",
    "# si lo eliminamos de nuevo , error\n",
    "lista.remove(1)"
   ]
  },
  {
   "cell_type": "code",
   "execution_count": null,
   "metadata": {},
   "outputs": [
    {
     "name": "stdout",
     "output_type": "stream",
     "text": [
      "[2, 3, 4, 5, 3, 2, 6, 7, 2, 8, 9]\n"
     ]
    }
   ],
   "source": [
    "lista = [1,2,3,4,5,3,2,6,7,2,8,1,9,1]\n",
    "while(1 in lista):\n",
    "    lista.remove(1)\n",
    "print(lista)"
   ]
  },
  {
   "cell_type": "code",
   "execution_count": null,
   "metadata": {},
   "outputs": [
    {
     "name": "stdout",
     "output_type": "stream",
     "text": [
      "[0, 1, 2, 3, 4, 5, 6, 7, 8, 9]\n",
      "[5, 6, 7, 8, 9]\n"
     ]
    }
   ],
   "source": [
    "# eliminación con iterador\n",
    "lista = [i for i in range(10)]\n",
    "print(lista)\n",
    "for i in range(5):\n",
    "    lista.remove(i)\n",
    "print(lista)\n"
   ]
  },
  {
   "cell_type": "markdown",
   "metadata": {},
   "source": [
    "### El metodo <span style=\"color:#66D9EF\">pop( )</span>"
   ]
  },
  {
   "cell_type": "markdown",
   "metadata": {},
   "source": [
    "También se puede usar para eliminar y devolver un elemento de la lista, pero por defecto elimina solo el último elemento de la lista, para eliminar un elemento de una posición específica de la Lista, se pasa el índice del elemento como un argumento para el método <span style=\"color:#66D9EF\">pop(indice)</span>."
   ]
  },
  {
   "cell_type": "code",
   "execution_count": null,
   "metadata": {},
   "outputs": [
    {
     "name": "stdout",
     "output_type": "stream",
     "text": [
      "[1, 2, 3, 4, 5, 6, 7, 8, 9, 10]\n",
      "[1, 2, 3, 4, 5, 6, 7, 8, 9]\n",
      "9\n",
      "[1, 2, 3, 4, 5, 6, 7, 8]\n",
      "5\n",
      "[1, 2, 3, 4, 6, 7, 8]\n"
     ]
    }
   ],
   "source": [
    "lista = [1,2,3,4,5,6,7,8,9,10]\n",
    "print(lista)\n",
    "# elimina el ultimo\n",
    "lista.pop()\n",
    "print(lista)\n",
    "# devuelve el valor eliminado y lo podemos guardar\n",
    "ultimo = lista.pop()\n",
    "print(ultimo)\n",
    "print(lista)\n",
    "# elimina y devuelve el valor en el indice 4\n",
    "indice = lista.pop(4)\n",
    "print(indice)\n",
    "print(lista)\n"
   ]
  },
  {
   "cell_type": "markdown",
   "metadata": {},
   "source": [
    "## Comprobar si un elmento existe en la lista"
   ]
  },
  {
   "cell_type": "markdown",
   "metadata": {},
   "source": [
    "Podemos probar si un elemento existe en una lista o no, utilizando in."
   ]
  },
  {
   "cell_type": "code",
   "execution_count": null,
   "metadata": {},
   "outputs": [
    {
     "name": "stdout",
     "output_type": "stream",
     "text": [
      "True\n",
      "False\n",
      "['hola', 1, True, 1.7, 4, 8, 5, 1]\n"
     ]
    }
   ],
   "source": [
    "lista = [\"hola\",1,3,3,True,1.7,3,4,8,3,5,1,3]\n",
    "print(1 in lista)\n",
    "print( 1 not in lista)\n",
    "# eliminamos todos los 3\n",
    "for i in lista:\n",
    "    if 3 in lista:\n",
    "        lista.remove(3)\n",
    "print(lista)"
   ]
  },
  {
   "cell_type": "markdown",
   "metadata": {},
   "source": [
    "### Método <span style=\"color:#66D9EF\">index()</span>\n",
    "<span style=\"color:#66D9EF\">index(valor, posición)</span> devuelve la primera aparición / índice del elemento en la lista dada como argumento de la función.\n",
    "Podemos buscar despues de una posición con el segundo argumeto"
   ]
  },
  {
   "cell_type": "markdown",
   "metadata": {},
   "source": [
    "### "
   ]
  },
  {
   "cell_type": "code",
   "execution_count": null,
   "metadata": {},
   "outputs": [
    {
     "name": "stdout",
     "output_type": "stream",
     "text": [
      "0\n",
      "5\n",
      "10\n"
     ]
    }
   ],
   "source": [
    "lista = [1,2,3,4,4,1,4,5,3,2,1,3,4,5]\n",
    "indice_1 = lista.index(1)\n",
    "# print(indice_1)\n",
    "# buscar despues de la posición 3 \n",
    "indice_p = lista.index(1,3)\n",
    "# print(indice_p)\n",
    "indice_1 = lista.index(1)\n",
    "indice_11 = lista.index(1,indice_1+1)\n",
    "indice_111 = lista.index(1,indice_11+1)\n",
    "print(indice_1)\n",
    "print(indice_11)\n",
    "print(indice_111)"
   ]
  },
  {
   "cell_type": "markdown",
   "metadata": {},
   "source": [
    "## Contar elemetos"
   ]
  },
  {
   "cell_type": "markdown",
   "metadata": {},
   "source": [
    "### Método <span style=\"color:#66D9EF\">len( )</span>"
   ]
  },
  {
   "cell_type": "markdown",
   "metadata": {},
   "source": [
    "El método <span style=\"color:#66D9EF\">len( )</span> devuelve la longitud de un objeto, ya sea una lista, una cadena, una tupla o un diccionario."
   ]
  },
  {
   "cell_type": "code",
   "execution_count": null,
   "metadata": {},
   "outputs": [
    {
     "name": "stdout",
     "output_type": "stream",
     "text": [
      "100\n",
      "1915\n"
     ]
    }
   ],
   "source": [
    "lista = [i for i in range(100)]\n",
    "print(len(lista))\n",
    "txt = \"\"\"\n",
    "Culpa mollit aute sint incididunt culpa nisi incididunt sunt amet occaecat anim. Sint velit voluptate minim consequat velit nisi nostrud proident. Do et est nulla sunt est esse. Fugiat consectetur dolor et quis consectetur in. Qui mollit cillum eiusmod qui qui eu aliquip dolor est minim ut minim.\n",
    "\n",
    "Laboris aliquip ullamco velit ex quis ut Lorem ipsum Lorem. Minim pariatur et ea veniam reprehenderit pariatur fugiat minim proident aute eu eiusmod dolor. Consequat commodo Lorem cillum nostrud dolore laboris id in esse qui. Ex consequat adipisicing ipsum exercitation in et magna deserunt.\n",
    "\n",
    "Deserunt reprehenderit deserunt occaecat sit Lorem amet est labore duis. Reprehenderit non ea pariatur exercitation adipisicing occaecat duis fugiat sint. Pariatur velit id proident ipsum nisi elit cupidatat reprehenderit culpa velit qui eu velit.\n",
    "\n",
    "Velit in labore ipsum nisi pariatur non deserunt officia ea eiusmod nostrud amet sunt dolore. Velit ea laboris consectetur in laborum dolore cupidatat reprehenderit reprehenderit adipisicing proident aliqua. Et mollit adipisicing est dolor enim magna dolore nisi.\n",
    "\n",
    "Non do proident velit cillum est adipisicing. Pariatur exercitation cillum exercitation dolor nostrud est incididunt aute sunt ad incididunt aliquip. Non ut nisi labore in sit est.\n",
    "\n",
    "Amet consequat occaecat exercitation nisi mollit excepteur veniam ad. Duis fugiat pariatur irure ea ex ad. Magna eiusmod id laboris laborum est exercitation. Excepteur consectetur sunt non deserunt. Eiusmod tempor sit deserunt do culpa velit magna esse est officia. Nulla commodo pariatur amet cupidatat fugiat eu. Incididunt aliquip laborum incididunt exercitation culpa aute et nulla esse consequat.\n",
    "\n",
    "Laborum nulla cillum eiusmod laborum culpa enim. Fugiat ad commodo nisi et excepteur voluptate nulla enim. Irure adipisicing sunt Lorem nulla deserunt non amet. Reprehenderit adipisicing eu magna magna nulla id ipsum irure.\"\"\"\n",
    "print(len(txt))"
   ]
  },
  {
   "cell_type": "markdown",
   "metadata": {},
   "source": [
    "### Método <span style=\"color:#66D9EF\">count( )</span>"
   ]
  },
  {
   "cell_type": "markdown",
   "metadata": {},
   "source": [
    "El método <span style=\"color:#66D9EF\">count( )</span> devuelve el número de veces que un elementos aparecen en la lista especificada. Este método toma un único argumento como entrada. Itera la lista y cuenta el número de instancias que coinciden."
   ]
  },
  {
   "cell_type": "code",
   "execution_count": null,
   "metadata": {},
   "outputs": [
    {
     "name": "stdout",
     "output_type": "stream",
     "text": [
      "5\n",
      "[2, 5]\n"
     ]
    }
   ],
   "source": [
    "lista = [1,2,3,1,2,3,1,9,8,1,5,8,1,6,8,7,8]\n",
    "print(lista.count(1))\n",
    "# cont=lista.count(1)\n",
    "# indice = lista.index(1)\n",
    "# indices=[indice]\n",
    "indices=[]\n",
    "# while(True):\n",
    "#     indice = lista.index(1,indice+1)\n",
    "#     indices.append(indice)\n",
    "#     cont-=1\n",
    "#     if cont==1:\n",
    "#         break\n",
    "for i in range(lista.count(3)):\n",
    "    if i == 0:\n",
    "        indice = lista.index(3)\n",
    "    else:\n",
    "        indice = lista.index(3,indice+1)\n",
    "    indices.append(indice)\n",
    "print(indices)"
   ]
  },
  {
   "cell_type": "code",
   "execution_count": null,
   "metadata": {},
   "outputs": [],
   "source": []
  },
  {
   "cell_type": "markdown",
   "metadata": {},
   "source": [
    "## Ordenar"
   ]
  },
  {
   "cell_type": "markdown",
   "metadata": {},
   "source": [
    "### Método <span style=\"color:#66D9EF\">sort( )</span>, <span style=\"color:#66D9EF\">min()</span> y <span style=\"color:#66D9EF\">max()</span>"
   ]
  },
  {
   "cell_type": "markdown",
   "metadata": {},
   "source": [
    "El método <span style=\"color:#66D9EF\">sort()</span> ordena la lista de forma ascendente por defecto.\n",
    "También puede crear una función para decidir los criterios de clasificación.\n",
    "<span style=\"color:#66D9EF\">sort(reverse = True|False,key=(funcion))</span>  \n",
    "\n",
    "<span style=\"color:#66D9EF\">min()</span> y <span style=\"color:#66D9EF\">max()</span> son útiles cuando necesita encontrar los valores más pequeños y más grandes en un iterable.\n",
    "\n"
   ]
  },
  {
   "cell_type": "code",
   "execution_count": null,
   "metadata": {},
   "outputs": [
    {
     "name": "stdout",
     "output_type": "stream",
     "text": [
      "None\n",
      "[1, 2, 3, 4, 5, 6, 7, 8, 9]\n",
      "[9, 8, 7, 6, 5, 4, 3, 2, 1]\n",
      "1\n",
      "9\n"
     ]
    }
   ],
   "source": [
    "lista = [2,6,8,4,5,9,7,1,3]\n",
    "print(lista.sort())\n",
    "print(lista)\n",
    "lista = [2,6,8,4,5,9,7,1,3]\n",
    "lista.sort(reverse=True)\n",
    "print(lista)\n",
    "print(min(lista))\n",
    "print(max(lista))\n"
   ]
  },
  {
   "cell_type": "markdown",
   "metadata": {},
   "source": [
    "## Rebanar una lista"
   ]
  },
  {
   "cell_type": "markdown",
   "metadata": {},
   "source": [
    "Podemos obtener subcadenas y sublistas usando un segmento. En Python List, hay varias formas de imprimir la lista completa con todos los elementos.\n",
    "La operación de división se realiza en Listas con el uso de dos puntos (:)"
   ]
  },
  {
   "cell_type": "markdown",
   "metadata": {},
   "source": [
    "Para imprimir un elmentos desde el pirncipio hasta un rango"
   ]
  },
  {
   "cell_type": "code",
   "execution_count": 53,
   "metadata": {},
   "outputs": [
    {
     "name": "stdout",
     "output_type": "stream",
     "text": [
      "Para imprimir un elmentos desde el pirncipio hasta un rango\n",
      "[1, 2, 3, 4, 5, 6, 7, 8, 9, 10]\n",
      "Para imprimir elementos desde el  final:\n",
      "[1, 2, 3, 4, 5, 6, 7, 8, 9]\n",
      "Para imprimir elementos de un índice específico hasta el final \n",
      "[]\n",
      "Para imprimir la lista completa en orden inverso\n",
      "[10]\n",
      "Para imprimir elementos en un rango\n",
      "[]\n",
      "[10]\n",
      "[1]\n"
     ]
    }
   ],
   "source": [
    "lista = [i for i in range(1,10+1)]\n",
    "print(\"Para imprimir un elmentos desde el pirncipio hasta un rango\")\n",
    "print(lista[:10])\n",
    "print(\"Para imprimir elementos desde el  final:\")\n",
    "print(lista[:-1])\n",
    "print(\"Para imprimir elementos de un índice específico hasta el final \")\n",
    "print(lista[40:])\n",
    "print(\"Para imprimir la lista completa en orden inverso\")\n",
    "print(lista[::-20])\n",
    "print(\"Para imprimir elementos en un rango\")\n",
    "print(lista[10:20])\n",
    "print(lista[::-12])\n",
    "print(lista[::12])\n"
   ]
  },
  {
   "cell_type": "markdown",
   "metadata": {},
   "source": [
    "## Copiar una lista"
   ]
  },
  {
   "cell_type": "markdown",
   "metadata": {},
   "source": [
    "### Uso del método <span style=\"color:#66D9EF\">copy( )</span>"
   ]
  },
  {
   "cell_type": "markdown",
   "metadata": {},
   "source": [
    "El método incorporado copy se usa para copiar todos los elementos de una lista a otra."
   ]
  },
  {
   "cell_type": "code",
   "execution_count": 61,
   "metadata": {},
   "outputs": [
    {
     "name": "stdout",
     "output_type": "stream",
     "text": [
      "True\n",
      "True\n",
      "True\n",
      "[1, 2, 3, 4]\n",
      "[1, 2, 3, 4]\n",
      "['uno', 2, 3, 4]\n",
      "['uno', 2, 3, 4]\n"
     ]
    }
   ],
   "source": [
    "lista = [1,2,3]\n",
    "lista2 = lista\n",
    "a = 5\n",
    "b = 5\n",
    "print(id(a)==id(b))\n",
    "print(id(lista) == id(lista2))\n",
    "lista.append(4)\n",
    "print(id(lista) == id(lista2))\n",
    "print(lista)\n",
    "print(lista2)\n",
    "lista2[0] = \"uno\"\n",
    "print(lista)\n",
    "print(lista2)\n",
    "\n"
   ]
  },
  {
   "cell_type": "code",
   "execution_count": 65,
   "metadata": {},
   "outputs": [
    {
     "name": "stdout",
     "output_type": "stream",
     "text": [
      "False\n",
      "[1, 2, 3, 4]\n",
      "[1, 2, 3, 4]\n",
      "2105569968368\n",
      "2105569968368\n",
      "2105569968496\n",
      "2105569968368\n",
      "[5, 2, 3, 4]\n",
      "[1, 2, 3, 4]\n"
     ]
    }
   ],
   "source": [
    "lista = [1,2,3,4]\n",
    "lista2 = lista.copy()\n",
    "print(id(lista) == id(lista2))\n",
    "print(lista)\n",
    "print(lista2)\n",
    "print(id(lista[0]))\n",
    "print(id(lista2[0]))\n",
    "lista[0]=5\n",
    "print(id(lista[0]))\n",
    "print(id(lista2[0]))\n",
    "print(lista)\n",
    "print(lista2)"
   ]
  },
  {
   "cell_type": "markdown",
   "metadata": {},
   "source": [
    "## Eliminar una lista"
   ]
  },
  {
   "cell_type": "code",
   "execution_count": null,
   "metadata": {},
   "outputs": [
    {
     "name": "stdout",
     "output_type": "stream",
     "text": [
      "[1, 2, 3]\n",
      "[]\n",
      "False\n"
     ]
    }
   ],
   "source": [
    "lista = [1,2,3]\n",
    "print(lista)\n",
    "id1 = id(lista)\n",
    "lista = []\n",
    "print(lista)\n",
    "id2 = id(lista)\n",
    "print(id1 == id2)"
   ]
  },
  {
   "cell_type": "code",
   "execution_count": null,
   "metadata": {},
   "outputs": [
    {
     "name": "stdout",
     "output_type": "stream",
     "text": [
      "True\n"
     ]
    }
   ],
   "source": [
    "lista = [1,2,3]\n",
    "id1 = id(lista)\n",
    "lista.clear()\n",
    "id2 = id(lista)\n",
    "print(id1 == id2)"
   ]
  }
 ],
 "metadata": {
  "kernelspec": {
   "display_name": "Python 3.10.4 64-bit",
   "language": "python",
   "name": "python3"
  },
  "language_info": {
   "codemirror_mode": {
    "name": "ipython",
    "version": 3
   },
   "file_extension": ".py",
   "mimetype": "text/x-python",
   "name": "python",
   "nbconvert_exporter": "python",
   "pygments_lexer": "ipython3",
   "version": "3.10.8"
  },
  "orig_nbformat": 4,
  "vscode": {
   "interpreter": {
    "hash": "9524c4952dd211fec7df7c73b3afac2dbc89a267f70352ce6257a0999e7cce99"
   }
  }
 },
 "nbformat": 4,
 "nbformat_minor": 2
}
