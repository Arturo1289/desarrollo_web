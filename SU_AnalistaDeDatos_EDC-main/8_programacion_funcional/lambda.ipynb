{
 "cells": [
  {
   "cell_type": "markdown",
   "metadata": {},
   "source": [
    "# Función Lambda"
   ]
  },
  {
   "cell_type": "code",
   "execution_count": 10,
   "metadata": {},
   "outputs": [],
   "source": [
    "# función que regresa su numero consecutivo de x, f(x) -> x + 1\n",
    "def consecutivo(x):\n",
    "    return x + 1\n",
    "\n",
    "consecutivo_lambda = lambda x:x+1"
   ]
  },
  {
   "cell_type": "code",
   "execution_count": 11,
   "metadata": {},
   "outputs": [
    {
     "data": {
      "text/plain": [
       "9"
      ]
     },
     "execution_count": 11,
     "metadata": {},
     "output_type": "execute_result"
    }
   ],
   "source": [
    "consecutivo(8)"
   ]
  },
  {
   "cell_type": "code",
   "execution_count": 12,
   "metadata": {},
   "outputs": [
    {
     "data": {
      "text/plain": [
       "6"
      ]
     },
     "execution_count": 12,
     "metadata": {},
     "output_type": "execute_result"
    }
   ],
   "source": [
    "consecutivo_lambda(5)"
   ]
  },
  {
   "cell_type": "code",
   "execution_count": 37,
   "metadata": {},
   "outputs": [
    {
     "name": "stdout",
     "output_type": "stream",
     "text": [
      "[49, 196, 441, '25 No es divisible entre 7']\n",
      "['_', '_', '_', '_', '_']\n"
     ]
    }
   ],
   "source": [
    "print(list(map(lambda x:x**2 if x**2 % 7 == 0 else f\"{x**2} No es divisible entre 7\",[7,14,21,5])))\n",
    "print(list(map(lambda x: x if x==\"y\" else \"_\",\"perro\")))"
   ]
  },
  {
   "cell_type": "markdown",
   "metadata": {},
   "source": [
    "### Duplicar valor"
   ]
  },
  {
   "cell_type": "code",
   "execution_count": 22,
   "metadata": {},
   "outputs": [],
   "source": [
    "def duplica(x):\n",
    "    return x*2\n",
    "\n",
    "duplica_lambda = lambda x : x*2"
   ]
  },
  {
   "cell_type": "code",
   "execution_count": 23,
   "metadata": {},
   "outputs": [
    {
     "name": "stdout",
     "output_type": "stream",
     "text": [
      "12\n",
      "18\n",
      "<function <lambda> at 0x000002539D74E3B0>\n"
     ]
    }
   ],
   "source": [
    "print(duplica(6))\n",
    "print(duplica_lambda(9))\n",
    "print(lambda x : x*2)"
   ]
  },
  {
   "cell_type": "markdown",
   "metadata": {},
   "source": [
    "### Número Positivo"
   ]
  },
  {
   "cell_type": "code",
   "execution_count": 24,
   "metadata": {},
   "outputs": [],
   "source": [
    "def positivo(x):\n",
    "    if x>0:\n",
    "        return True\n",
    "    return False\n",
    "\n",
    "positivo_lambda = lambda x:x>0"
   ]
  },
  {
   "cell_type": "code",
   "execution_count": 27,
   "metadata": {},
   "outputs": [
    {
     "name": "stdout",
     "output_type": "stream",
     "text": [
      "True\n",
      "False\n"
     ]
    }
   ],
   "source": [
    "print(positivo(2))\n",
    "print(positivo_lambda(-8))"
   ]
  },
  {
   "cell_type": "markdown",
   "metadata": {},
   "source": [
    "### Multiplicar por"
   ]
  },
  {
   "cell_type": "code",
   "execution_count": 28,
   "metadata": {},
   "outputs": [],
   "source": [
    "def multiplica_por(x,y):\n",
    "    return x*y\n",
    "\n",
    "def multiplica_por_l(n):\n",
    "    return lambda x: x * n # retorna función lambda\n",
    "\n",
    "lambda_multiplica = lambda x,y: x*y"
   ]
  },
  {
   "cell_type": "code",
   "execution_count": 29,
   "metadata": {},
   "outputs": [
    {
     "name": "stdout",
     "output_type": "stream",
     "text": [
      "35\n",
      "72\n",
      "<function multiplica_por_l.<locals>.<lambda> at 0x000002539D74D000>\n"
     ]
    }
   ],
   "source": [
    "print(multiplica_por(5,7))\n",
    "print(lambda_multiplica(8,9))\n",
    "print(multiplica_por_l(5))"
   ]
  },
  {
   "cell_type": "code",
   "execution_count": 33,
   "metadata": {},
   "outputs": [
    {
     "name": "stdout",
     "output_type": "stream",
     "text": [
      "50\n",
      "780\n",
      "1560\n"
     ]
    }
   ],
   "source": [
    "multiplica_por_5 = multiplica_por_l(5) # regresa una función lambda\n",
    "multiplica_por_78= multiplica_por_l(78) # regresa una función lambda\n",
    "multiplica_por_156= multiplica_por_l(156) # regresa una función lambda\n",
    "print(multiplica_por_5(10))\n",
    "print(multiplica_por_78(10))\n",
    "print(multiplica_por_156(10))\n"
   ]
  },
  {
   "cell_type": "code",
   "execution_count": null,
   "metadata": {},
   "outputs": [],
   "source": []
  },
  {
   "cell_type": "code",
   "execution_count": null,
   "metadata": {},
   "outputs": [],
   "source": []
  }
 ],
 "metadata": {
  "kernelspec": {
   "display_name": "Python 3.10.4 64-bit",
   "language": "python",
   "name": "python3"
  },
  "language_info": {
   "codemirror_mode": {
    "name": "ipython",
    "version": 3
   },
   "file_extension": ".py",
   "mimetype": "text/x-python",
   "name": "python",
   "nbconvert_exporter": "python",
   "pygments_lexer": "ipython3",
   "version": "3.10.8"
  },
  "orig_nbformat": 4,
  "vscode": {
   "interpreter": {
    "hash": "9524c4952dd211fec7df7c73b3afac2dbc89a267f70352ce6257a0999e7cce99"
   }
  }
 },
 "nbformat": 4,
 "nbformat_minor": 2
}
