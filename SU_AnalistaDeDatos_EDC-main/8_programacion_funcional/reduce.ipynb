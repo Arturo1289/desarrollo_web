{
 "cells": [
  {
   "cell_type": "markdown",
   "metadata": {},
   "source": [
    "# Reduce\n",
    "``` python  \n",
    "    import functools\n",
    "    valor = funtools.reduce(funcion, iterable , valor_inicial) \n",
    "```"
   ]
  },
  {
   "cell_type": "markdown",
   "metadata": {},
   "source": [
    "### sumar"
   ]
  },
  {
   "cell_type": "code",
   "execution_count": 7,
   "metadata": {},
   "outputs": [
    {
     "data": {
      "text/plain": [
       "15"
      ]
     },
     "execution_count": 7,
     "metadata": {},
     "output_type": "execute_result"
    }
   ],
   "source": [
    "import functools as f\n",
    "def sumar(a,b):\n",
    "    return a + b\n",
    "lista = [1,2,3,4,5] # a = 1, b = 2, a = suma(1,2) , b = 3 , a = 3, b = 3, suma(a,b) -> 6\n",
    "valor = f.reduce(sumar,lista) # 1,2,3 -> suma(1,2) + 3, suma(3,3)\n",
    "valor"
   ]
  },
  {
   "cell_type": "markdown",
   "metadata": {},
   "source": [
    "### Contar superheroes"
   ]
  },
  {
   "cell_type": "code",
   "execution_count": 9,
   "metadata": {},
   "outputs": [],
   "source": [
    "superheroes = [\n",
    "    {\n",
    "        \"nombre\": \"Batman\",\n",
    "        \"editorial\": \"DC Comics\",\n",
    "        \"alter_ego\": \"Bruce Wayne\",\n",
    "        \"primera_aparicion\": \"Detective Comics #27\"\n",
    "    },\n",
    "    {\n",
    "        \"nombre\": \"Superman\",\n",
    "        \"editorial\": \"DC Comics\",\n",
    "        \"alter_ego\": \"Kal-El\",\n",
    "        \"primera_aparicion\": \"Action Comics #1\"\n",
    "    },\n",
    "    {\n",
    "        \"nombre\": \"Spider Man\",\n",
    "        \"editorial\": \"Marvel Comics\",\n",
    "        \"alter_ego\": \"Peter Parker\",\n",
    "        \"primera_aparicion\": \"Amazing Fantasy #15\"\n",
    "    },\n",
    "    {\n",
    "        \"nombre\": \"Hulk\",\n",
    "        \"editorial\": \"Marvel Comics\",\n",
    "        \"alter_ego\": \"Bruce Banner\",\n",
    "        \"primera_aparicion\": \"The Incredible Hulk #1\"\n",
    "    }\n",
    "]"
   ]
  },
  {
   "cell_type": "code",
   "execution_count": 11,
   "metadata": {},
   "outputs": [
    {
     "name": "stdout",
     "output_type": "stream",
     "text": [
      "con for cont = 3\n",
      "con reduce valor = 3\n"
     ]
    }
   ],
   "source": [
    "def contarMan(cont,superheroe):\n",
    "    if 'Man'.lower() in superheroe['nombre'].lower():\n",
    "        return cont + 1\n",
    "    return cont\n",
    "\n",
    "# modo tradicional\n",
    "cont = 0\n",
    "for sh in superheroes:\n",
    "    cont = contarMan(cont,sh)\n",
    "print(f\"con for cont = {cont}\")\n",
    "\n",
    "# con reduce\n",
    "valor = f.reduce(contarMan,superheroes,0)\n",
    "print(f\"con reduce valor = {valor}\")"
   ]
  },
  {
   "cell_type": "code",
   "execution_count": 19,
   "metadata": {},
   "outputs": [
    {
     "name": "stdout",
     "output_type": "stream",
     "text": [
      "correcto\n"
     ]
    }
   ],
   "source": [
    "import random as r\n",
    "multiplicaciones = [(r.randint(1,10),r.randint(1,10)) for i in range(10)]\n",
    "primera = multiplicaciones[0]\n",
    "multi = primera[0] * primera[1]\n",
    "resp = int(input(f\"{primera[0]} * {primera[1]}\"))\n",
    "if(multi==resp):\n",
    "    print(\"correcto\")\n",
    "else:\n",
    "    print(\"la respuesta correcta es =\",multi)"
   ]
  },
  {
   "cell_type": "code",
   "execution_count": 20,
   "metadata": {},
   "outputs": [
    {
     "name": "stdout",
     "output_type": "stream",
     "text": [
      "siempre si\n",
      "correcto\n",
      "correcto\n"
     ]
    },
    {
     "data": {
      "text/plain": [
       "2"
      ]
     },
     "execution_count": 20,
     "metadata": {},
     "output_type": "execute_result"
    }
   ],
   "source": [
    "import functools as f\n",
    "def dimeSi(cont,pregunta):\n",
    "    respuesta = input(pregunta)\n",
    "    if(respuesta ==\"si\"):\n",
    "        print(\"correcto\")\n",
    "        return cont+1\n",
    "    print(\"siempre si\")\n",
    "    return cont\n",
    "\n",
    "preguntas = [\"hoy es viernes\",\"te gusta el color rojo\", \"sabes python\"]\n",
    "\n",
    "puntos = f.reduce(dimeSi,preguntas,0)\n",
    "puntos"
   ]
  },
  {
   "cell_type": "code",
   "execution_count": null,
   "metadata": {},
   "outputs": [],
   "source": []
  }
 ],
 "metadata": {
  "kernelspec": {
   "display_name": "Python 3.10.4 64-bit",
   "language": "python",
   "name": "python3"
  },
  "language_info": {
   "codemirror_mode": {
    "name": "ipython",
    "version": 3
   },
   "file_extension": ".py",
   "mimetype": "text/x-python",
   "name": "python",
   "nbconvert_exporter": "python",
   "pygments_lexer": "ipython3",
   "version": "3.10.8"
  },
  "orig_nbformat": 4,
  "vscode": {
   "interpreter": {
    "hash": "9524c4952dd211fec7df7c73b3afac2dbc89a267f70352ce6257a0999e7cce99"
   }
  }
 },
 "nbformat": 4,
 "nbformat_minor": 2
}
