{
 "cells": [
  {
   "cell_type": "code",
   "execution_count": 16,
   "metadata": {},
   "outputs": [
    {
     "name": "stdout",
     "output_type": "stream",
     "text": [
      "Su numero es positivo\n"
     ]
    }
   ],
   "source": [
    "#Actividad 1\n",
    "n = float(input(\"Dame cualquier numero\", ))\n",
    "mas = (n>0)\n",
    "if (mas):\n",
    "    print(\"Su numero es positivo\")\n",
    "else:\n",
    "    print(\"su numero es negativo\")"
   ]
  },
  {
   "cell_type": "code",
   "execution_count": 67,
   "metadata": {},
   "outputs": [
    {
     "name": "stdout",
     "output_type": "stream",
     "text": [
      "lo siento pero no entras en el rango\n"
     ]
    }
   ],
   "source": [
    "#Actividad 2\n",
    "n= int(input(\"¿Quieres saber si estas dentro del rango?;¡VAMOS AYA!\",))\n",
    "if (n<0):\n",
    "    print (\"Lo siento pero no entras en el rango\")\n",
    "elif (n>7):\n",
    "    print (\"Lamentablemente te pasaste\")\n",
    "elif (n<=7):\n",
    "    print (\"Estas dentro del rango, en hora buena\")"
   ]
  },
  {
   "cell_type": "code",
   "execution_count": 78,
   "metadata": {},
   "outputs": [
    {
     "name": "stdout",
     "output_type": "stream",
     "text": [
      "Su invecion total equivale a $ 164303302.80\n"
     ]
    }
   ],
   "source": [
    "#Actividad 3\n",
    "n= float(input(\"Por fabor ingrese su monto total\", ))\n",
    "i = float(input(\"Por favor ingrese su interes en decimales\", ))\n",
    "if (i>0.3):\n",
    "    print (\"Error\")\n",
    "else:\n",
    "    cal = (n*i)\n",
    "    print(\"Su invercion total equivale a $\",\"{:.2f}\".format(cal))\n"
   ]
  }
 ],
 "metadata": {
  "kernelspec": {
   "display_name": "Python 3.11.0 64-bit",
   "language": "python",
   "name": "python3"
  },
  "language_info": {
   "codemirror_mode": {
    "name": "ipython",
    "version": 3
   },
   "file_extension": ".py",
   "mimetype": "text/x-python",
   "name": "python",
   "nbconvert_exporter": "python",
   "pygments_lexer": "ipython3",
   "version": "3.11.0"
  },
  "orig_nbformat": 4,
  "vscode": {
   "interpreter": {
    "hash": "0b0b049f9f07c796a5db9b973cc3ef1a7f890e99374bb13bd3a985708b2ada45"
   }
  }
 },
 "nbformat": 4,
 "nbformat_minor": 2
}
